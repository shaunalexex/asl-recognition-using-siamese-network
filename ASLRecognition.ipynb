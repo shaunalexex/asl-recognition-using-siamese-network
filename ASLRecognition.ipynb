{
  "nbformat": 4,
  "nbformat_minor": 0,
  "metadata": {
    "colab": {
      "name": "ASLRecognition",
      "provenance": [],
      "collapsed_sections": []
    },
    "kernelspec": {
      "name": "python3",
      "display_name": "Python 3"
    },
    "accelerator": "GPU"
  },
  "cells": [
    {
      "cell_type": "code",
      "metadata": {
        "id": "JtfnBKakMBS2"
      },
      "source": [
        "import numpy as np\r\n",
        "import pandas as pd\r\n",
        "import os\r\n",
        "import matplotlib.pyplot as plt\r\n",
        "get_ipython().magic(u'matplotlib inline')\r\n",
        "plt.style.use('ggplot')"
      ],
      "execution_count": 1,
      "outputs": []
    },
    {
      "cell_type": "code",
      "metadata": {
        "id": "2NJN1SIPOdwQ"
      },
      "source": [
        "from __future__ import absolute_import\r\n",
        "from __future__ import print_function\r\n",
        "\r\n",
        "import random\r\n",
        "from keras.models import Sequential\r\n",
        "import time\r\n",
        "from keras.optimizers import Adam,RMSprop\r\n",
        "from keras.layers import Conv2D, ZeroPadding2D, Activation, Input, concatenate\r\n",
        "from keras.models import Model\r\n",
        "import seaborn as sns\r\n",
        "from keras.layers.normalization import BatchNormalization\r\n",
        "from keras.layers.pooling import MaxPooling2D\r\n",
        "from keras.layers.core import Lambda, Flatten, Dense\r\n",
        "from keras.initializers import glorot_uniform\r\n",
        "from keras.optimizers import *\r\n",
        "from keras.engine.topology import Layer\r\n",
        "from keras import backend as K\r\n",
        "from keras.regularizers import l2\r\n",
        "\r\n",
        "num_classes = 24\r\n",
        "epochs = 20"
      ],
      "execution_count": 2,
      "outputs": []
    },
    {
      "cell_type": "code",
      "metadata": {
        "id": "LjECGqhkw5Ih"
      },
      "source": [
        "import numpy.random as rng\r\n",
        "def initialize_weights(shape,dtype,name=None):\r\n",
        "    values = rng.normal(loc=0,scale=1e-2,size=shape)\r\n",
        "    return K.variable(values,name=name)\r\n",
        "\r\n",
        "def initialize_bias(shape,dtype,name=None):\r\n",
        "\r\n",
        "    values=rng.normal(loc=0.5,scale=1e-2,size=shape)\r\n",
        "    return K.variable(values,name=name)"
      ],
      "execution_count": 3,
      "outputs": []
    },
    {
      "cell_type": "code",
      "metadata": {
        "id": "4gjimayqSrln"
      },
      "source": [
        "def create_model(input_shape):\r\n",
        "  left_input = Input(input_shape)\r\n",
        "  right_input = Input(input_shape)\r\n",
        "  model = Sequential()\r\n",
        "  model.add(Conv2D(32, kernel_size=(3, 3), input_shape=input_shape))\r\n",
        "  model.add(BatchNormalization())\r\n",
        "  model.add(Activation(activation='relu'))\r\n",
        "  model.add(MaxPooling2D(pool_size=(2, 2)))\r\n",
        "  model.add(Conv2D(64, kernel_size=(3, 3)))\r\n",
        "  model.add(BatchNormalization())\r\n",
        "  model.add(Activation(activation='relu'))\r\n",
        "  model.add(MaxPooling2D(pool_size=(2, 2)))\r\n",
        "  model.add(Flatten())\r\n",
        "  model.add(Dense(128))\r\n",
        "  model.add(BatchNormalization())\r\n",
        "  model.add(Activation(activation='relu'))\r\n",
        "\r\n",
        "  encoded_l = model(left_input)\r\n",
        "  encoded_r = model(right_input)\r\n",
        "\r\n",
        "  L1_layer = Lambda(lambda tensors:K.abs(tensors[0] - tensors[1]))\r\n",
        "  L1_distance = L1_layer([encoded_l, encoded_r])\r\n",
        "  prediction = Dense(1,activation='sigmoid')(L1_distance)\r\n",
        "\r\n",
        " \r\n",
        "\r\n",
        "  siamese_net = Model(inputs=[left_input,right_input],outputs=prediction)\r\n",
        "\r\n",
        "  return siamese_net"
      ],
      "execution_count": 4,
      "outputs": []
    },
    {
      "cell_type": "code",
      "metadata": {
        "colab": {
          "base_uri": "https://localhost:8080/"
        },
        "id": "4cnJ1iDhXRvd",
        "outputId": "7707ff14-01c4-405c-fce4-3107010dd76c"
      },
      "source": [
        "model = create_model((28, 28, 1))\r\n",
        "model.summary()"
      ],
      "execution_count": 19,
      "outputs": [
        {
          "output_type": "stream",
          "text": [
            "Model: \"functional_3\"\n",
            "__________________________________________________________________________________________________\n",
            "Layer (type)                    Output Shape         Param #     Connected to                     \n",
            "==================================================================================================\n",
            "input_3 (InputLayer)            [(None, 28, 28, 1)]  0                                            \n",
            "__________________________________________________________________________________________________\n",
            "input_4 (InputLayer)            [(None, 28, 28, 1)]  0                                            \n",
            "__________________________________________________________________________________________________\n",
            "sequential_1 (Sequential)       (None, 128)          224640      input_3[0][0]                    \n",
            "                                                                 input_4[0][0]                    \n",
            "__________________________________________________________________________________________________\n",
            "lambda_1 (Lambda)               (None, 128)          0           sequential_1[0][0]               \n",
            "                                                                 sequential_1[1][0]               \n",
            "__________________________________________________________________________________________________\n",
            "dense_3 (Dense)                 (None, 1)            129         lambda_1[0][0]                   \n",
            "==================================================================================================\n",
            "Total params: 224,769\n",
            "Trainable params: 224,321\n",
            "Non-trainable params: 448\n",
            "__________________________________________________________________________________________________\n"
          ],
          "name": "stdout"
        }
      ]
    },
    {
      "cell_type": "code",
      "metadata": {
        "id": "wl5QZujSZLou"
      },
      "source": [
        "optimizer = Adam(lr = 0.00006)\r\n",
        "model.compile(loss='binary_crossentropy', optimizer=optimizer, metrics='accuracy')"
      ],
      "execution_count": 20,
      "outputs": []
    },
    {
      "cell_type": "code",
      "metadata": {
        "colab": {
          "base_uri": "https://localhost:8080/",
          "height": 422
        },
        "id": "SytaAgztPwiV",
        "outputId": "1d33b951-6833-4ab1-860c-42c97f054ba2"
      },
      "source": [
        "from keras.utils.vis_utils import plot_model\r\n",
        "plot_model(model, to_file='model_plot.png', show_shapes=True, show_layer_names=True)"
      ],
      "execution_count": 7,
      "outputs": [
        {
          "output_type": "execute_result",
          "data": {
            "image/png": "[encoded data removed]",
            "text/plain": [
              "<IPython.core.display.Image object>"
            ]
          },
          "metadata": {
            "tags": []
          },
          "execution_count": 7
        }
      ]
    },
    {
      "cell_type": "code",
      "metadata": {
        "id": "NqurT1dIZPdP"
      },
      "source": [
        "train = pd.read_csv('/content/drive/MyDrive/SIGNS MNIST/sign_mnist_train.csv')\r\n",
        "test = pd.read_csv('/content/drive/MyDrive/SIGNS MNIST/sign_mnist_test.csv')\r\n",
        "\r\n",
        "train_labels =train['label']\r\n",
        "train_images =train.drop(['label'],axis=1)\r\n",
        "\r\n",
        "train_data = np.array(train_images).reshape((27455,28,28,1))\r\n",
        "train_label = np.array(train_labels)\r\n",
        "test_x = np.array(test)"
      ],
      "execution_count": 8,
      "outputs": []
    },
    {
      "cell_type": "code",
      "metadata": {
        "colab": {
          "base_uri": "https://localhost:8080/"
        },
        "id": "6ClaS9PSp4WT",
        "outputId": "ca2c9f33-2d43-45e8-f7fa-11f0a8933eec"
      },
      "source": [
        "df = train.drop_duplicates(subset = [\"label\"])\r\n",
        "print(df)"
      ],
      "execution_count": 9,
      "outputs": [
        {
          "output_type": "stream",
          "text": [
            "    label  pixel1  pixel2  pixel3  ...  pixel781  pixel782  pixel783  pixel784\n",
            "0       3     107     118     127  ...       206       204       203       202\n",
            "1       6     155     157     156  ...       175       103       135       149\n",
            "2       2     187     188     188  ...       198       195       194       195\n",
            "4      13     164     167     170  ...       157       163       164       179\n",
            "5      16     161     168     172  ...        48       238       255       255\n",
            "6       8     134     134     135  ...       179       181       181       179\n",
            "7      22     114      42      74  ...       227       227       228       228\n",
            "10     18     133     135     141  ...        94        94        93        92\n",
            "11     10       0      25      38  ...        67        65        62        64\n",
            "14     20     127     127     128  ...       147       145       144       143\n",
            "16     17     118     120     128  ...       160       166       170       180\n",
            "19     19     173     174     176  ...       195       195       193       190\n",
            "21     21     131     135     139  ...       193       191       190       191\n",
            "23     23      85      90      97  ...       229       230       230       230\n",
            "26     24     148     153     156  ...       175       173       171       167\n",
            "29      1     146     149     150  ...       194       194       190       187\n",
            "31     12     148     151     157  ...       179       113       130       124\n",
            "40     11     197     197     197  ...        55        55        61        58\n",
            "41     15     110     112     114  ...        21        14        10         9\n",
            "44      4     221     221     222  ...       236       233       233       232\n",
            "46      0     197     195     196  ...       212       213       213       213\n",
            "48      5     152     155     158  ...       175       162       144       135\n",
            "49      7     125     127     130  ...       183       183       179       178\n",
            "61     14     184     185     185  ...       168       135        97        78\n",
            "\n",
            "[24 rows x 785 columns]\n"
          ],
          "name": "stdout"
        }
      ]
    },
    {
      "cell_type": "code",
      "metadata": {
        "id": "F1ABl-0gqj37"
      },
      "source": [
        "support_labels =df['label']\r\n",
        "support_images =df.drop(['label'],axis=1)"
      ],
      "execution_count": 10,
      "outputs": []
    },
    {
      "cell_type": "code",
      "metadata": {
        "colab": {
          "base_uri": "https://localhost:8080/"
        },
        "id": "95VTdwolddWi",
        "outputId": "c4dcf230-d673-4187-f4b1-eeacf7d3b3fb"
      },
      "source": [
        "from sklearn.model_selection import train_test_split\r\n",
        "x_train, x_test, y_train, y_test = train_test_split(train_data, train_label, test_size=0.1, shuffle=True, random_state=1)\r\n",
        "print(\"Train data shape: {}.\".format(x_train.shape))\r\n",
        "print(\"Validation data shape: {}.\".format(x_test.shape))"
      ],
      "execution_count": 11,
      "outputs": [
        {
          "output_type": "stream",
          "text": [
            "Train data shape: (24709, 28, 28, 1).\n",
            "Validation data shape: (2746, 28, 28, 1).\n"
          ],
          "name": "stdout"
        }
      ]
    },
    {
      "cell_type": "code",
      "metadata": {
        "id": "XJDfcgmPhbTC"
      },
      "source": [
        "support_images=np.array(support_images).reshape((24,28,28,1))\r\n",
        "support_images = support_images.astype('float32')\r\n",
        "x_train = x_train.astype('float32')\r\n",
        "x_test = x_test.astype('float32')\r\n",
        "support_images /= 255\r\n",
        "x_train /= 255\r\n",
        "x_test /= 255"
      ],
      "execution_count": 12,
      "outputs": []
    },
    {
      "cell_type": "code",
      "metadata": {
        "id": "1UcVR0FKhs8y",
        "colab": {
          "base_uri": "https://localhost:8080/"
        },
        "outputId": "3262b577-cc6c-4e60-a221-e437fe6328e9"
      },
      "source": [
        "#training set\r\n",
        "support_labels=np.array(support_labels)\r\n",
        "xleft_train=[]\r\n",
        "xright_train=[]\r\n",
        "Y_train=[]\r\n",
        "pairs=5\r\n",
        "for i in range(len(y_train)):\r\n",
        "  for j in range(num_classes):\r\n",
        "    xleft_train.append(support_images[j])\r\n",
        "    xright_train.append(x_train[i])\r\n",
        "    if(support_labels[j]==y_train[i]):\r\n",
        "      Y_train.append(0)\r\n",
        "    else:\r\n",
        "      Y_train.append(1)\r\n",
        "xleft_train=np.squeeze(np.array(xleft_train))\r\n",
        "xright_train=np.squeeze(np.array(xright_train))\r\n",
        "Y_train=np.squeeze(np.array(Y_train))\r\n",
        "\r\n",
        "print(xleft_train.shape)"
      ],
      "execution_count": 13,
      "outputs": [
        {
          "output_type": "stream",
          "text": [
            "(593016, 28, 28)\n"
          ],
          "name": "stdout"
        }
      ]
    },
    {
      "cell_type": "code",
      "metadata": {
        "id": "kz8Yn2fheGSL"
      },
      "source": [
        "#test set from sign_mnist_test.csv\r\n",
        "test_labels =test['label']\r\n",
        "test_images =test.drop(['label'],axis=1)\r\n",
        "\r\n",
        "\r\n",
        "test_images = np.array(test_images).reshape((7172,28,28,1))\r\n",
        "\r\n",
        "\r\n",
        "test_images = test_images.astype('float32')\r\n",
        "\r\n",
        "test_images /= 255\r\n",
        "\r\n",
        "support_labels=np.squeeze(np.array(support_labels))\r\n",
        "test_labels=np.squeeze(np.array(test_labels))\r\n",
        "\r\n",
        "support_images=np.squeeze(np.array(support_images))\r\n",
        "test_images=np.squeeze(np.array(test_images))"
      ],
      "execution_count": 14,
      "outputs": []
    },
    {
      "cell_type": "code",
      "metadata": {
        "id": "LYxC4kJLXXew"
      },
      "source": [
        "#testing set\r\n",
        "xleft_val=[]\r\n",
        "xright_val=[]\r\n",
        "Y_val=[]\r\n",
        "pairs=5\r\n",
        "for i in range(len(test_labels)):\r\n",
        "  for j in range(num_classes):\r\n",
        "    xleft_val.append(support_images[j])\r\n",
        "    xright_val.append(test_images[i])\r\n",
        "    if(support_labels[j]==test_labels[i]):\r\n",
        "      Y_val.append(0)\r\n",
        "    else:\r\n",
        "      Y_val.append(1)\r\n",
        "xleft_val=np.squeeze(np.array(xleft_val))\r\n",
        "xright_val=np.squeeze(np.array(xright_val))\r\n",
        "Y_val=np.squeeze(np.array(Y_val))\r\n"
      ],
      "execution_count": 15,
      "outputs": []
    },
    {
      "cell_type": "code",
      "metadata": {
        "colab": {
          "base_uri": "https://localhost:8080/"
        },
        "id": "lCKySB1ziCwd",
        "outputId": "acbdfba6-8467-45bb-c543-b737426ad992"
      },
      "source": [
        "from keras.callbacks import EarlyStopping\r\n",
        "es = EarlyStopping(monitor='val_loss', mode='min', min_delta=0.0001, patience=1)\r\n",
        "model.fit(x=[xleft_train,xright_train],y=Y_train, epochs=15 , validation_data=([xleft_val,xright_val],Y_val),callbacks=[es])"
      ],
      "execution_count": 21,
      "outputs": [
        {
          "output_type": "stream",
          "text": [
            "Epoch 1/15\n",
            "18532/18532 [==============================] - 113s 6ms/step - loss: 0.0559 - accuracy: 0.9807 - val_loss: 0.0303 - val_accuracy: 0.9902\n",
            "Epoch 2/15\n",
            "18532/18532 [==============================] - 113s 6ms/step - loss: 0.0033 - accuracy: 0.9996 - val_loss: 0.0267 - val_accuracy: 0.9915\n",
            "Epoch 3/15\n",
            "18532/18532 [==============================] - 114s 6ms/step - loss: 8.0946e-04 - accuracy: 0.9999 - val_loss: 0.0279 - val_accuracy: 0.9914\n"
          ],
          "name": "stdout"
        },
        {
          "output_type": "execute_result",
          "data": {
            "text/plain": [
              "<tensorflow.python.keras.callbacks.History at 0x7f0c9824b0f0>"
            ]
          },
          "metadata": {
            "tags": []
          },
          "execution_count": 21
        }
      ]
    },
    {
      "cell_type": "code",
      "metadata": {
        "id": "SfzGJfk2d9Ei"
      },
      "source": [
        "#Each image in test set is predicted against anchor image from each class\r\n",
        "test_pred=[]\r\n",
        "for i in range(len(y_test)):\r\n",
        "  result=1\r\n",
        "  for j in range(num_classes):\r\n",
        "    y=model.predict(x=[support_images[j].reshape(1,28,28,1),x_test[i].reshape(1,28,28,1)])\r\n",
        "    if(y<result):\r\n",
        "      result=y\r\n",
        "      label=support_labels[j]\r\n",
        "  test_pred.append(label)"
      ],
      "execution_count": 92,
      "outputs": []
    },
    {
      "cell_type": "code",
      "metadata": {
        "colab": {
          "base_uri": "https://localhost:8080/"
        },
        "id": "diAXyRhbNFiU",
        "outputId": "f396afb4-d7f4-44bd-d037-9463d6df1983"
      },
      "source": [
        "from sklearn.metrics import classification_report,accuracy_score\r\n",
        "import string\r\n",
        "test_pred=np.array(test_pred)\r\n",
        "target_names = list(string.ascii_uppercase) \r\n",
        "target_names.remove('J')\r\n",
        "target_names.remove('Z')\r\n",
        "\r\n",
        "print(classification_report(y_test,test_pred,target_names=target_names))\r\n"
      ],
      "execution_count": 108,
      "outputs": [
        {
          "output_type": "stream",
          "text": [
            "              precision    recall  f1-score   support\n",
            "\n",
            "           A       1.00      1.00      1.00       118\n",
            "           B       1.00      1.00      1.00        90\n",
            "           C       1.00      1.00      1.00       128\n",
            "           D       1.00      1.00      1.00       102\n",
            "           E       1.00      1.00      1.00        84\n",
            "           F       1.00      1.00      1.00       128\n",
            "           G       1.00      1.00      1.00       104\n",
            "           H       1.00      1.00      1.00       102\n",
            "           I       1.00      1.00      1.00       100\n",
            "           K       1.00      1.00      1.00       117\n",
            "           L       1.00      1.00      1.00       139\n",
            "           M       1.00      1.00      1.00       116\n",
            "           N       1.00      1.00      1.00       119\n",
            "           O       1.00      1.00      1.00       118\n",
            "           P       1.00      1.00      1.00       110\n",
            "           Q       1.00      1.00      1.00       133\n",
            "           R       1.00      1.00      1.00       124\n",
            "           S       1.00      1.00      1.00       127\n",
            "           T       1.00      1.00      1.00       112\n",
            "           U       1.00      1.00      1.00       113\n",
            "           V       1.00      1.00      1.00       105\n",
            "           W       1.00      1.00      1.00       120\n",
            "           X       1.00      1.00      1.00       132\n",
            "           Y       1.00      1.00      1.00       105\n",
            "\n",
            "    accuracy                           1.00      2746\n",
            "   macro avg       1.00      1.00      1.00      2746\n",
            "weighted avg       1.00      1.00      1.00      2746\n",
            "\n"
          ],
          "name": "stdout"
        }
      ]
    },
    {
      "cell_type": "code",
      "metadata": {
        "id": "wmrpUXPxAPHu"
      },
      "source": [
        ""
      ],
      "execution_count": null,
      "outputs": []
    }
  ]
}